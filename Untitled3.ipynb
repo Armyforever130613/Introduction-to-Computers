{
  "nbformat": 4,
  "nbformat_minor": 0,
  "metadata": {
    "colab": {
      "provenance": [],
      "authorship_tag": "ABX9TyNYOcPBQTDOhWB3C3mlP7JX",
      "include_colab_link": true
    },
    "kernelspec": {
      "name": "python3",
      "display_name": "Python 3"
    },
    "language_info": {
      "name": "python"
    }
  },
  "cells": [
    {
      "cell_type": "markdown",
      "metadata": {
        "id": "view-in-github",
        "colab_type": "text"
      },
      "source": [
        "<a href=\"https://colab.research.google.com/github/Armyforever130613/Introduction-to-Computers/blob/main/Untitled3.ipynb\" target=\"_parent\"><img src=\"https://colab.research.google.com/assets/colab-badge.svg\" alt=\"Open In Colab\"/></a>"
      ]
    },
    {
      "cell_type": "code",
      "source": [
        "rain = input(\"今天會下雨嗎？(請輸入Y或N): \")\n",
        "\n",
        "if rain == \"Y\" or rain == \"y\":\n",
        "    print(\"出門記得帶傘！\")\n",
        "elif rain == \"N\" or rain == \"n\":\n",
        "    print(\"不用帶傘\")\n",
        "else:\n",
        "    print(\"重新輸出\")"
      ],
      "metadata": {
        "colab": {
          "base_uri": "https://localhost:8080/"
        },
        "id": "4ZwbmPz7W_6F",
        "outputId": "40e9c62f-3a28-4f9c-8d70-443c719e1ebf"
      },
      "execution_count": 8,
      "outputs": [
        {
          "output_type": "stream",
          "name": "stdout",
          "text": [
            "今天會下雨嗎？(請輸入Y或N): Y\n",
            "出門記得帶傘！\n"
          ]
        }
      ]
    },
    {
      "cell_type": "code",
      "source": [
        "t = float(input(\"請輸入體溫值：\"))\n",
        "\n",
        "if t >= 37.5:\n",
        "    print(\"體溫過高！\")\n",
        "elif 37 <= t <= 37.4:\n",
        "    print(\"體溫略高！\")\n",
        "elif 34 <= t <= 36.9:\n",
        "    print(\"體溫正常！\")\n",
        "else:\n",
        "    print(\"體溫異常，請重新量測！\")"
      ],
      "metadata": {
        "colab": {
          "base_uri": "https://localhost:8080/"
        },
        "id": "iIpC9uhlXFbe",
        "outputId": "e23bc9a2-6700-408c-accd-0b1b19deb3bb"
      },
      "execution_count": 9,
      "outputs": [
        {
          "output_type": "stream",
          "name": "stdout",
          "text": [
            "請輸入體溫值：37\n",
            "體溫略高！\n"
          ]
        }
      ]
    },
    {
      "cell_type": "code",
      "source": [
        "score = int(input(\"請輸入成績：\"))\n",
        "\n",
        "if score >= 90:\n",
        "    print(\"A\")\n",
        "elif 80 <= score <= 89:\n",
        "    print(\"B\")\n",
        "elif 70 <= score <= 79:\n",
        "    print(\"C\")\n",
        "elif 60 <= score <= 69:\n",
        "    print(\"D\")\n",
        "else:\n",
        "    print(\"E\")"
      ],
      "metadata": {
        "colab": {
          "base_uri": "https://localhost:8080/"
        },
        "id": "QIK0vQndXOg-",
        "outputId": "4579b269-17ff-48ef-c2fa-01689ed077a7"
      },
      "execution_count": 12,
      "outputs": [
        {
          "output_type": "stream",
          "name": "stdout",
          "text": [
            "請輸入成績：90\n",
            "A\n"
          ]
        }
      ]
    },
    {
      "cell_type": "code",
      "source": [
        "month = int(input(\"請輸入月份：\"))\n",
        "\n",
        "if month in [3, 4, 5]:\n",
        "    print(f\"{month}月是春天！\")\n",
        "elif month in [6, 7, 8]:\n",
        "    print(f\"{month}月是夏天！\")\n",
        "elif month in [9, 10, 11]:\n",
        "    print(f\"{month}月是秋天！\")\n",
        "elif month in [12, 1, 2]:\n",
        "    print(f\"{month}月是冬天！\")\n",
        "else:\n",
        "    print(\"月份不在範圍內！\")"
      ],
      "metadata": {
        "colab": {
          "base_uri": "https://localhost:8080/"
        },
        "id": "AlSjifwRXeHA",
        "outputId": "78638fd0-3cbd-4f46-cb59-f58aefa623ba"
      },
      "execution_count": 13,
      "outputs": [
        {
          "output_type": "stream",
          "name": "stdout",
          "text": [
            "請輸入月份：3\n",
            "3月是春天！\n"
          ]
        }
      ]
    },
    {
      "cell_type": "code",
      "source": [
        "income = int(input(\"請輸入收入淨額：\"))\n",
        "\n",
        "if income >= 2000000:\n",
        "    tax_rate = 0.3\n",
        "elif income >= 1000000:\n",
        "    tax_rate = 0.21\n",
        "elif income >= 600000:\n",
        "    tax_rate = 0.13\n",
        "elif income >= 300000:\n",
        "    tax_rate = 0.06\n",
        "else:\n",
        "    tax_rate = 0\n",
        "\n",
        "tax = income * tax_rate\n",
        "print(f\"應繳稅金：{tax}\")"
      ],
      "metadata": {
        "colab": {
          "base_uri": "https://localhost:8080/"
        },
        "id": "9-SWPtmHXmhK",
        "outputId": "8cf69bf4-779a-4e4c-96c0-e7af097c1b55"
      },
      "execution_count": 15,
      "outputs": [
        {
          "output_type": "stream",
          "name": "stdout",
          "text": [
            "請輸入收入淨額：100000\n",
            "應繳稅金：0\n"
          ]
        }
      ]
    }
  ]
}